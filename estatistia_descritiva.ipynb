{
 "cells": [
  {
   "cell_type": "code",
   "execution_count": 1,
   "id": "32b49cc9",
   "metadata": {},
   "outputs": [],
   "source": [
    "import pandas as pd"
   ]
  },
  {
   "cell_type": "code",
   "execution_count": 4,
   "id": "e019526f",
   "metadata": {},
   "outputs": [
    {
     "data": {
      "text/html": [
       "<div>\n",
       "<style scoped>\n",
       "    .dataframe tbody tr th:only-of-type {\n",
       "        vertical-align: middle;\n",
       "    }\n",
       "\n",
       "    .dataframe tbody tr th {\n",
       "        vertical-align: top;\n",
       "    }\n",
       "\n",
       "    .dataframe thead th {\n",
       "        text-align: right;\n",
       "    }\n",
       "</style>\n",
       "<table border=\"1\" class=\"dataframe\">\n",
       "  <thead>\n",
       "    <tr style=\"text-align: right;\">\n",
       "      <th></th>\n",
       "      <th>idTransacao</th>\n",
       "      <th>idUsuario</th>\n",
       "      <th>dtTransacao</th>\n",
       "      <th>qtdPontos</th>\n",
       "      <th>descProduto</th>\n",
       "      <th>descCategoriaProduto</th>\n",
       "      <th>DataTransacao</th>\n",
       "    </tr>\n",
       "  </thead>\n",
       "  <tbody>\n",
       "    <tr>\n",
       "      <th>0</th>\n",
       "      <td>83d52c4a-8585-4896-bbf3-9d9c9e885f7f</td>\n",
       "      <td>c4ade77c-f395-4d22-93c3-7a8031df9c6f</td>\n",
       "      <td>2024-11-08 12:34:58</td>\n",
       "      <td>1</td>\n",
       "      <td>ChatMessage</td>\n",
       "      <td>chat</td>\n",
       "      <td>08/11/2024</td>\n",
       "    </tr>\n",
       "    <tr>\n",
       "      <th>1</th>\n",
       "      <td>64feebd3-70d1-42f5-ba90-3d89e12b7e98</td>\n",
       "      <td>65662aff-44d6-4f06-b9d9-07445c6e5943</td>\n",
       "      <td>2024-01-31 12:02:10</td>\n",
       "      <td>1</td>\n",
       "      <td>ChatMessage</td>\n",
       "      <td>chat</td>\n",
       "      <td>31/01/2024</td>\n",
       "    </tr>\n",
       "    <tr>\n",
       "      <th>2</th>\n",
       "      <td>e242114e-3cb1-41a0-b16b-d7ecb04365c9</td>\n",
       "      <td>a7649e0c-92dd-42fe-bb36-d6f0aaaa8638</td>\n",
       "      <td>2024-03-26 12:34:32</td>\n",
       "      <td>1</td>\n",
       "      <td>ChatMessage</td>\n",
       "      <td>chat</td>\n",
       "      <td>26/03/2024</td>\n",
       "    </tr>\n",
       "    <tr>\n",
       "      <th>3</th>\n",
       "      <td>35f3adc9-9d9b-464b-8c53-c96537b2f573</td>\n",
       "      <td>1856963a-84cb-453e-a139-eb7d8d9b3255</td>\n",
       "      <td>2024-12-10 11:36:37</td>\n",
       "      <td>50</td>\n",
       "      <td>Lista de presença</td>\n",
       "      <td>present</td>\n",
       "      <td>10/12/2024</td>\n",
       "    </tr>\n",
       "    <tr>\n",
       "      <th>4</th>\n",
       "      <td>8cd5864e-401d-4e84-be85-af90bc3f7feb</td>\n",
       "      <td>65662aff-44d6-4f06-b9d9-07445c6e5943</td>\n",
       "      <td>2024-05-23 11:50:09</td>\n",
       "      <td>1</td>\n",
       "      <td>ChatMessage</td>\n",
       "      <td>chat</td>\n",
       "      <td>23/05/2024</td>\n",
       "    </tr>\n",
       "  </tbody>\n",
       "</table>\n",
       "</div>"
      ],
      "text/plain": [
       "                            idTransacao                             idUsuario  \\\n",
       "0  83d52c4a-8585-4896-bbf3-9d9c9e885f7f  c4ade77c-f395-4d22-93c3-7a8031df9c6f   \n",
       "1  64feebd3-70d1-42f5-ba90-3d89e12b7e98  65662aff-44d6-4f06-b9d9-07445c6e5943   \n",
       "2  e242114e-3cb1-41a0-b16b-d7ecb04365c9  a7649e0c-92dd-42fe-bb36-d6f0aaaa8638   \n",
       "3  35f3adc9-9d9b-464b-8c53-c96537b2f573  1856963a-84cb-453e-a139-eb7d8d9b3255   \n",
       "4  8cd5864e-401d-4e84-be85-af90bc3f7feb  65662aff-44d6-4f06-b9d9-07445c6e5943   \n",
       "\n",
       "           dtTransacao  qtdPontos        descProduto descCategoriaProduto  \\\n",
       "0  2024-11-08 12:34:58          1        ChatMessage                 chat   \n",
       "1  2024-01-31 12:02:10          1        ChatMessage                 chat   \n",
       "2  2024-03-26 12:34:32          1        ChatMessage                 chat   \n",
       "3  2024-12-10 11:36:37         50  Lista de presença              present   \n",
       "4  2024-05-23 11:50:09          1        ChatMessage                 chat   \n",
       "\n",
       "  DataTransacao  \n",
       "0    08/11/2024  \n",
       "1    31/01/2024  \n",
       "2    26/03/2024  \n",
       "3    10/12/2024  \n",
       "4    23/05/2024  "
      ]
     },
     "execution_count": 4,
     "metadata": {},
     "output_type": "execute_result"
    }
   ],
   "source": [
    "df = pd.read_csv(\"data/points_tmw.csv\")\n",
    "df.head()"
   ]
  },
  {
   "cell_type": "code",
   "execution_count": 19,
   "id": "033f6796",
   "metadata": {},
   "outputs": [
    {
     "name": "stdout",
     "output_type": "stream",
     "text": [
      "Mínimo: -1000\n",
      "Máximo: 1000\n",
      "Média: 5.14\n",
      "1º Quartil: 1.0\n",
      "Mediana: 1.0\n",
      "3º Quartil: 1.0\n"
     ]
    }
   ],
   "source": [
    "print(f'Mínimo: {df[\"qtdPontos\"].min()}')\n",
    "print(f'Máximo: {df[\"qtdPontos\"].max()}')\n",
    "print(f'Média: {round(df[\"qtdPontos\"].mean(),2)}')\n",
    "print(f'1º Quartil: {df[\"qtdPontos\"].quantile()}')\n",
    "print(f'Mediana: {df[\"qtdPontos\"].median()}')\n",
    "print(f'3º Quartil: {df[\"qtdPontos\"].quantile(0.75)}')"
   ]
  }
 ],
 "metadata": {
  "kernelspec": {
   "display_name": "Python 3",
   "language": "python",
   "name": "python3"
  },
  "language_info": {
   "codemirror_mode": {
    "name": "ipython",
    "version": 3
   },
   "file_extension": ".py",
   "mimetype": "text/x-python",
   "name": "python",
   "nbconvert_exporter": "python",
   "pygments_lexer": "ipython3",
   "version": "3.13.1"
  }
 },
 "nbformat": 4,
 "nbformat_minor": 5
}
